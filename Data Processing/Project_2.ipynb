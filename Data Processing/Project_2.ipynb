{
 "cells": [
  {
   "cell_type": "code",
   "execution_count": 1,
   "id": "389040a8",
   "metadata": {},
   "outputs": [],
   "source": [
    "from pyspark.sql import SQLContext\n",
    "from pyspark import SparkContext\n",
    "import json\n",
    "import requests"
   ]
  },
  {
   "cell_type": "code",
   "execution_count": 2,
   "id": "af12d661",
   "metadata": {},
   "outputs": [
    {
     "name": "stderr",
     "output_type": "stream",
     "text": [
      "/sw/pkgs/arc/spark/spark-3.2.1-bin-hadoop3.2/python/pyspark/sql/context.py:77: FutureWarning: Deprecated in 3.0.0. Use SparkSession.builder.getOrCreate() instead.\n",
      "  warnings.warn(\n"
     ]
    }
   ],
   "source": [
    "sqlcontext = SQLContext(sc)"
   ]
  },
  {
   "cell_type": "code",
   "execution_count": 3,
   "id": "2b19f72f",
   "metadata": {},
   "outputs": [],
   "source": [
    "imdb = sqlContext.read.csv('imdb.csv', header = True)"
   ]
  },
  {
   "cell_type": "code",
   "execution_count": 4,
   "id": "6d041327",
   "metadata": {},
   "outputs": [
    {
     "name": "stdout",
     "output_type": "stream",
     "text": [
      "root\n",
      " |-- _c0: string (nullable = true)\n",
      " |-- tconst: string (nullable = true)\n",
      " |-- titleType: string (nullable = true)\n",
      " |-- primaryTitle: string (nullable = true)\n",
      " |-- startYear: string (nullable = true)\n",
      " |-- genres: string (nullable = true)\n",
      "\n"
     ]
    }
   ],
   "source": [
    "imdb.printSchema()"
   ]
  },
  {
   "cell_type": "code",
   "execution_count": 5,
   "id": "f669d725",
   "metadata": {},
   "outputs": [
    {
     "name": "stdout",
     "output_type": "stream",
     "text": [
      "+---+---------+---------+--------------------+---------+--------------------+\n",
      "|_c0|   tconst|titleType|        primaryTitle|startYear|              genres|\n",
      "+---+---------+---------+--------------------+---------+--------------------+\n",
      "|  8|tt0000009|    movie|          Miss Jerry|     1894|             Romance|\n",
      "|498|tt0000502|    movie|            Bohemios|     1905|                  \\N|\n",
      "|570|tt0000574|    movie|The Story of the ...|     1906|Action,Adventure,...|\n",
      "|587|tt0000591|    movie|    The Prodigal Son|     1907|               Drama|\n",
      "|610|tt0000615|    movie|  Robbery Under Arms|     1907|               Drama|\n",
      "+---+---------+---------+--------------------+---------+--------------------+\n",
      "only showing top 5 rows\n",
      "\n"
     ]
    }
   ],
   "source": [
    "imdb.show(5)"
   ]
  },
  {
   "cell_type": "code",
   "execution_count": 6,
   "id": "ae209c17",
   "metadata": {},
   "outputs": [],
   "source": [
    "movielens = sqlContext.read.csv('movielens.csv', header = True)"
   ]
  },
  {
   "cell_type": "code",
   "execution_count": 7,
   "id": "aae48dd0",
   "metadata": {},
   "outputs": [
    {
     "name": "stdout",
     "output_type": "stream",
     "text": [
      "root\n",
      " |-- _c0: string (nullable = true)\n",
      " |-- movieId: string (nullable = true)\n",
      " |-- tag: string (nullable = true)\n",
      " |-- imdbId: string (nullable = true)\n",
      " |-- tmdbId: string (nullable = true)\n",
      "\n"
     ]
    }
   ],
   "source": [
    "movielens.printSchema()"
   ]
  },
  {
   "cell_type": "code",
   "execution_count": 8,
   "id": "ca488bf5",
   "metadata": {},
   "outputs": [],
   "source": [
    "critic_ratings = sqlContext.read.csv('ratings.csv', header = True)"
   ]
  },
  {
   "cell_type": "code",
   "execution_count": 9,
   "id": "e8286b64",
   "metadata": {},
   "outputs": [
    {
     "name": "stdout",
     "output_type": "stream",
     "text": [
      "root\n",
      " |-- userId: string (nullable = true)\n",
      " |-- movieId: string (nullable = true)\n",
      " |-- rating: string (nullable = true)\n",
      " |-- timestamp: string (nullable = true)\n",
      "\n"
     ]
    }
   ],
   "source": [
    "critic_ratings.printSchema()"
   ]
  },
  {
   "cell_type": "code",
   "execution_count": 10,
   "id": "dab27782",
   "metadata": {},
   "outputs": [],
   "source": [
    "user_ratings = sqlContext.read.csv('data.tsv', header = True, sep = '\\t')"
   ]
  },
  {
   "cell_type": "code",
   "execution_count": 11,
   "id": "582d7c92",
   "metadata": {},
   "outputs": [
    {
     "name": "stdout",
     "output_type": "stream",
     "text": [
      "root\n",
      " |-- tconst: string (nullable = true)\n",
      " |-- averageRating: string (nullable = true)\n",
      " |-- numVotes: string (nullable = true)\n",
      "\n"
     ]
    }
   ],
   "source": [
    "user_ratings.printSchema()"
   ]
  },
  {
   "cell_type": "code",
   "execution_count": 12,
   "id": "55bfa468",
   "metadata": {},
   "outputs": [
    {
     "name": "stderr",
     "output_type": "stream",
     "text": [
      "/sw/pkgs/arc/spark/spark-3.2.1-bin-hadoop3.2/python/pyspark/sql/dataframe.py:138: FutureWarning: Deprecated in 2.0, use createOrReplaceTempView instead.\n",
      "  warnings.warn(\n"
     ]
    }
   ],
   "source": [
    "imdb.registerTempTable(\"imdb\")\n",
    "movielens.registerTempTable(\"movielens\")\n",
    "critic_ratings.registerTempTable(\"critic_ratings\")\n",
    "user_ratings.registerTempTable(\"user_ratings\")"
   ]
  },
  {
   "cell_type": "code",
   "execution_count": 13,
   "id": "7e89830b",
   "metadata": {},
   "outputs": [],
   "source": [
    "sql1 = sqlcontext.sql(''' select CAST(SUBSTRING(tconst, 3, 9) as INT) as id,  primaryTitle, startYear, movieId, tag from imdb \n",
    "                          INNER JOIN movielens\n",
    "                          on CAST(SUBSTRING(tconst, 3, 9) as INT) = CAST(imdbId as INT)''')"
   ]
  },
  {
   "cell_type": "code",
   "execution_count": 14,
   "id": "0a2d0de6",
   "metadata": {},
   "outputs": [
    {
     "name": "stdout",
     "output_type": "stream",
     "text": [
      "+----+------------------+---------+-------+-------------+\n",
      "|  id|      primaryTitle|startYear|movieId|          tag|\n",
      "+----+------------------+---------+-------+-------------+\n",
      "|4181|Judith of Bethulia|     1914|  84852|       attack|\n",
      "|4181|Judith of Bethulia|     1914|  84852|        bible|\n",
      "|4181|Judith of Bethulia|     1914|  84852|     disguise|\n",
      "|4181|Judith of Bethulia|     1914|  84852|        siege|\n",
      "|4181|Judith of Bethulia|     1914|  84852|D.W. Griffith|\n",
      "+----+------------------+---------+-------+-------------+\n",
      "only showing top 5 rows\n",
      "\n"
     ]
    }
   ],
   "source": [
    "sql1.show(5)"
   ]
  },
  {
   "cell_type": "code",
   "execution_count": 15,
   "id": "d7413bb3",
   "metadata": {},
   "outputs": [],
   "source": [
    "sql1.registerTempTable(\"sql1\")"
   ]
  },
  {
   "cell_type": "code",
   "execution_count": 16,
   "id": "c5e6c898",
   "metadata": {},
   "outputs": [],
   "source": [
    "val = sql1.toJSON()"
   ]
  },
  {
   "cell_type": "markdown",
   "id": "22bc58c6",
   "metadata": {},
   "source": [
    "##### Keywords from Numbers.com and TMDB\n",
    "\n",
    "racial : racism, racial, discrimination, segregation, racist, civil\n",
    "\n",
    "addiction : drug, drugs, abuse, depression, addiction, depressing\n",
    "\n",
    "rigths: gay, queer, lgbt, lesbian \n",
    "\n",
    "social commentary\n",
    "\n",
    "empowerment: sexist, strong female lead, strong woman, strong women\n",
    "\n",
    "immigration"
   ]
  },
  {
   "cell_type": "code",
   "execution_count": 17,
   "id": "9dd7cfa6",
   "metadata": {},
   "outputs": [],
   "source": [
    "#1-\tWhether the number of socially aware movies have increased across the years with more awareness?"
   ]
  },
  {
   "cell_type": "code",
   "execution_count": 48,
   "id": "00af655d",
   "metadata": {},
   "outputs": [],
   "source": [
    "def get_social_value(data):\n",
    "    tokens = {'racial' : ['racism', 'racial', 'discrimination', 'segregation', 'racist', 'civil', 'black', 'african', 'race'],\n",
    "              'addiction' : ['drug', 'drugs', 'abuse', 'depression', 'addiction', 'depressing', 'suicide', 'psychiatrist',\n",
    "                            'mental', 'addict', 'abandonment', 'alcoholism'],\n",
    "              'rights': ['gay', 'queer', 'lgbt', 'lesbian', 'bisexual', 'homosexuality', 'transgender'],\n",
    "              'social': ['social', 'social commentary', 'social criticism','societal', 'bully', 'bullying', 'pollution', 'corruption', 'crisis'],\n",
    "              'empowerment': ['sexist', 'strong female lead', 'strong woman', 'strong women', 'woman', 'women'],\n",
    "              'immigration': ['immigration', 'culture']}\n",
    "    \n",
    "    year = data['startYear']\n",
    "    id1 = data['id']\n",
    "    tag = data.get('tag')\n",
    "    val = None\n",
    "    \n",
    "    for i, j in tokens.items():\n",
    "        for k in j:\n",
    "            if(tag != None):\n",
    "                if(k in tag.lower()):\n",
    "                    val = 1\n",
    "                else:\n",
    "                    continue\n",
    "    if(val == None):\n",
    "        return (id1, (year, 0))\n",
    "    else:\n",
    "        return(id1, (year, 1))"
   ]
  },
  {
   "cell_type": "code",
   "execution_count": 49,
   "id": "4a562619",
   "metadata": {},
   "outputs": [],
   "source": [
    "def sum_tuple(vals):\n",
    "    sum1,social = 0, 0\n",
    "    for i in range(len(vals)):\n",
    "        j = i % 2\n",
    "        if(j == 0):\n",
    "            year = vals[i]\n",
    "        else:\n",
    "            sum1 = sum1 + vals[i] \n",
    "            if(sum1 >= 1):\n",
    "                social = 1\n",
    "            else:\n",
    "                social = 0\n",
    "    return (year, social)"
   ]
  },
  {
   "cell_type": "code",
   "execution_count": 50,
   "id": "67815116",
   "metadata": {},
   "outputs": [],
   "source": [
    "def tot_count(vals):\n",
    "    sum1, social = 0, 0\n",
    "    for i in range(len(vals)):\n",
    "        j = i % 2\n",
    "        if(j == 0):\n",
    "            year = vals[i]\n",
    "    return (year, 1)"
   ]
  },
  {
   "cell_type": "code",
   "execution_count": 51,
   "id": "68773340",
   "metadata": {},
   "outputs": [],
   "source": [
    "solution =  val.map(lambda line: json.loads(line))\\\n",
    "            .map(lambda x: get_social_value(x))\\\n",
    "            .reduceByKey(lambda a, b : a + b)\\\n",
    "            .mapValues(sum_tuple)\\\n",
    "            .map(lambda x: x[1])\\\n",
    "            .reduceByKey(lambda a, b : a + b)\\\n",
    "            .sortBy(lambda x: -x[1])"
   ]
  },
  {
   "cell_type": "code",
   "execution_count": 52,
   "id": "c015d89f",
   "metadata": {},
   "outputs": [],
   "source": [
    "counts =  val.map(lambda line: json.loads(line))\\\n",
    "            .map(lambda x: get_social_value(x))\\\n",
    "            .reduceByKey(lambda a, b : a + b)\\\n",
    "            .mapValues(tot_count)\\\n",
    "            .map(lambda x: x[1])\\\n",
    "            .reduceByKey(lambda a, b : a + b)"
   ]
  },
  {
   "cell_type": "code",
   "execution_count": 53,
   "id": "ae69bf7d",
   "metadata": {},
   "outputs": [],
   "source": [
    "percentage = solution.join(counts).map(lambda x: (x[0], x[1][0]/x[1][1]))\\\n",
    "             .sortBy(lambda x: -x[1])\\\n",
    "             .filter(lambda x: x[1] < 1)\\\n",
    "             .map(lambda x: x[0] + ',' + str(x[1]))"
   ]
  },
  {
   "cell_type": "code",
   "execution_count": 54,
   "id": "3249c9c5",
   "metadata": {},
   "outputs": [
    {
     "data": {
      "text/plain": [
       "['2009,0.3883029721955896',\n",
       " '1998,0.3767258382642998',\n",
       " '2005,0.3761348897535668',\n",
       " '2004,0.37586685159500693',\n",
       " '2013,0.37384615384615383',\n",
       " '2012,0.3724832214765101',\n",
       " '2006,0.37058152793614596',\n",
       " '2000,0.36764705882352944',\n",
       " '2001,0.3676222596964587',\n",
       " '2007,0.3625541125541126',\n",
       " '2008,0.3575757575757576',\n",
       " '1997,0.35247524752475246',\n",
       " '1996,0.3521739130434783',\n",
       " '2010,0.3508424182358771',\n",
       " '2011,0.3494525547445255',\n",
       " '2002,0.3438485804416404',\n",
       " '2014,0.3433696348494555',\n",
       " '2016,0.34335337341349365',\n",
       " '1992,0.34097421203438394',\n",
       " '2003,0.33983739837398375',\n",
       " '2015,0.33420879842416285',\n",
       " '1915,0.3333333333333333',\n",
       " '1995,0.330188679245283',\n",
       " '1999,0.3203125',\n",
       " '1993,0.3048128342245989',\n",
       " '1994,0.28741092636579574',\n",
       " '1990,0.28055555555555556',\n",
       " '1986,0.28',\n",
       " '1991,0.27945205479452057',\n",
       " '1984,0.2782874617737003',\n",
       " '2017,0.2767102229054573',\n",
       " '2019,0.2631578947368421',\n",
       " '2018,0.2630272952853598',\n",
       " '1973,0.2545931758530184',\n",
       " '1983,0.2516778523489933',\n",
       " '1975,0.25157232704402516',\n",
       " '1921,0.25',\n",
       " '1988,0.24883720930232558',\n",
       " '1985,0.24705882352941178',\n",
       " '1987,0.24623115577889448',\n",
       " '1922,0.23809523809523808',\n",
       " '1978,0.237012987012987',\n",
       " '1982,0.2356687898089172',\n",
       " '1927,0.21739130434782608',\n",
       " '1989,0.21502590673575128',\n",
       " '1932,0.21084337349397592',\n",
       " '1976,0.21052631578947367',\n",
       " '1979,0.20327868852459016',\n",
       " '1931,0.20300751879699247',\n",
       " '1981,0.2006269592476489',\n",
       " '1933,0.19875776397515527',\n",
       " '1974,0.19832402234636873',\n",
       " '1980,0.19817073170731708',\n",
       " '1972,0.19801980198019803',\n",
       " '1970,0.19726027397260273',\n",
       " '1971,0.19704433497536947',\n",
       " '1977,0.19444444444444445',\n",
       " '1968,0.1933534743202417',\n",
       " '1969,0.17757009345794392',\n",
       " '1960,0.17674418604651163',\n",
       " '1925,0.17647058823529413',\n",
       " '1967,0.17586206896551723',\n",
       " '1930,0.17525773195876287',\n",
       " '1935,0.1744186046511628',\n",
       " '1962,0.17333333333333334',\n",
       " '1957,0.1709090909090909',\n",
       " '1961,0.16981132075471697',\n",
       " '1963,0.16822429906542055',\n",
       " '1916,0.16666666666666666',\n",
       " '1918,0.16666666666666666',\n",
       " '1956,0.16597510373443983',\n",
       " '1954,0.16037735849056603',\n",
       " '1929,0.15853658536585366',\n",
       " '1965,0.15671641791044777',\n",
       " '1958,0.1522633744855967',\n",
       " '1928,0.1509433962264151',\n",
       " '1955,0.15086206896551724',\n",
       " '1966,0.15',\n",
       " '1964,0.14760147601476015',\n",
       " '1941,0.140625',\n",
       " '1959,0.13924050632911392',\n",
       " '1949,0.13106796116504854',\n",
       " '1945,0.12804878048780488',\n",
       " '1951,0.1277533039647577',\n",
       " '1953,0.12653061224489795',\n",
       " '1950,0.125',\n",
       " '1936,0.12299465240641712',\n",
       " '1947,0.12209302325581395',\n",
       " '1934,0.11976047904191617',\n",
       " '1920,0.11764705882352941',\n",
       " '1938,0.11494252873563218',\n",
       " '1917,0.1111111111111111',\n",
       " '1940,0.1099476439790576',\n",
       " '1946,0.10919540229885058',\n",
       " '1944,0.10778443113772455',\n",
       " '1939,0.10106382978723404',\n",
       " '1919,0.1',\n",
       " '1952,0.09251101321585903',\n",
       " '1914,0.09090909090909091',\n",
       " '1943,0.0847457627118644',\n",
       " '1937,0.08108108108108109',\n",
       " '1948,0.07291666666666667',\n",
       " '1924,0.07142857142857142',\n",
       " '1942,0.0625',\n",
       " '1926,0.0625',\n",
       " '1923,0.05555555555555555',\n",
       " '1913,0.0',\n",
       " '2022,0.0',\n",
       " '\\\\N,0.0',\n",
       " '2024,0.0',\n",
       " '2021,0.0',\n",
       " '1911,0.0',\n",
       " '1906,0.0',\n",
       " '1912,0.0']"
      ]
     },
     "execution_count": 54,
     "metadata": {},
     "output_type": "execute_result"
    }
   ],
   "source": [
    "percentage.collect()"
   ]
  },
  {
   "cell_type": "code",
   "execution_count": 55,
   "id": "8a835650",
   "metadata": {},
   "outputs": [],
   "source": [
    "#2 Do audiences prefer certain themes of movies over others. Are there certain themes that audience do not want to see on the big screen?\n",
    "\n",
    "sql2 = sqlcontext.sql(''' select id, primaryTitle, startYear, a.movieId, tag, (a.user_rating - b.critic) as diff from\n",
    "                          (\n",
    "                          (select id, primaryTitle, startYear, movieId, tag, u.averageRating as user_rating from sql1 \n",
    "                          INNER JOIN user_ratings u\n",
    "                          on id = CAST(SUBSTRING(tconst, 3, 9) as INT)) a\n",
    "                          JOIN (select movieId, ((AVG(rating)/5) * 10) as critic from critic_ratings \n",
    "                          GROUP BY movieId) b\n",
    "                          ON a.movieId = b. movieId)\n",
    "                          ''')"
   ]
  },
  {
   "cell_type": "code",
   "execution_count": 56,
   "id": "492cdb87",
   "metadata": {},
   "outputs": [
    {
     "name": "stdout",
     "output_type": "stream",
     "text": [
      "+-------+--------------------+---------+-------+-----------------+--------------------+\n",
      "|     id|        primaryTitle|startYear|movieId|              tag|                diff|\n",
      "+-------+--------------------+---------+-------+-----------------+--------------------+\n",
      "|1606384|              My Way|     2011| 100062|     world war ii|  0.5024390243902435|\n",
      "|1606384|              My Way|     2011| 100062|     press-ganged|  0.5024390243902435|\n",
      "|1192624|  Punching the Clown|     2009| 100070|         comedian| 0.12307692307692353|\n",
      "|1192624|  Punching the Clown|     2009| 100070|           comedy| 0.12307692307692353|\n",
      "|1192624|  Punching the Clown|     2009| 100070|      good humour| 0.12307692307692353|\n",
      "|1192624|  Punching the Clown|     2009| 100070|         comedian| 0.12307692307692353|\n",
      "|1192624|  Punching the Clown|     2009| 100070|struggling career| 0.12307692307692353|\n",
      "|2153963|                Tabu|     2012| 100277|      silent film| 0.23877551020408116|\n",
      "|2153963|                Tabu|     2012| 100277|      tragic love| 0.23877551020408116|\n",
      "|2153963|                Tabu|     2012| 100277|     Miguel Gomes| 0.23877551020408116|\n",
      "| 255195| The Goddess of 1967|     2000| 100562|        australia|-0.01818181818181852|\n",
      "| 255195| The Goddess of 1967|     2000| 100562|          dancing|-0.01818181818181852|\n",
      "| 255195| The Goddess of 1967|     2000| 100562|           police|-0.01818181818181852|\n",
      "| 255195| The Goddess of 1967|     2000| 100562|   woman director|-0.01818181818181852|\n",
      "| 255195| The Goddess of 1967|     2000| 100562|        Clara Law|-0.01818181818181852|\n",
      "|1737674|      PressPausePlay|     2011| 100567|    David Dworsky|-0.33636363636363686|\n",
      "|1737674|      PressPausePlay|     2011| 100567|    Victor Köhler|-0.33636363636363686|\n",
      "|  47977|Davy Crockett: Ki...|     1955|   1008|    davy crockett| 0.20631868131868192|\n",
      "|  47977|Davy Crockett: Ki...|     1955|   1008|     frontiersman| 0.20631868131868192|\n",
      "|  47977|Davy Crockett: Ki...|     1955|   1008|    Norman Foster| 0.20631868131868192|\n",
      "+-------+--------------------+---------+-------+-----------------+--------------------+\n",
      "only showing top 20 rows\n",
      "\n"
     ]
    }
   ],
   "source": [
    "sql2.show()"
   ]
  },
  {
   "cell_type": "code",
   "execution_count": 57,
   "id": "303c2859",
   "metadata": {},
   "outputs": [],
   "source": [
    "tab2 = sql2.toJSON()"
   ]
  },
  {
   "cell_type": "code",
   "execution_count": 58,
   "id": "7f543e98",
   "metadata": {},
   "outputs": [],
   "source": [
    "def get_social_value1(data):\n",
    "    tokens = {'racial' : ['racism', 'racial', 'discrimination', 'segregation', 'racist', 'civil', 'black', 'african', 'race'],\n",
    "              'addiction' : ['drug', 'drugs', 'abuse', 'depression', 'addiction', 'depressing', 'suicide', 'psychiatrist',\n",
    "                            'mental', 'addict', 'abandonment', 'alcoholism'],\n",
    "              'rights': ['gay', 'queer', 'lgbt', 'lesbian', 'bisexual', 'homosexuality', 'transgender'],\n",
    "              'social': ['social', 'social commentary', 'social criticism','societal', 'bully', 'bullying', 'pollution', 'corruption', 'crisis'],\n",
    "              'empowerment': ['sexist', 'strong female lead', 'strong woman', 'strong women', 'woman', 'women'],\n",
    "              'immigration': ['immigration', 'culture']}\n",
    "\n",
    "    year = data['startYear']\n",
    "    id1 = data['id']\n",
    "    tag = data.get('tag')\n",
    "    diff = data.get('diff')\n",
    "    val = None\n",
    "    \n",
    "    for i, j in tokens.items():\n",
    "        for k in j:\n",
    "            if(tag != None):\n",
    "                if(k in tag.lower()):\n",
    "                    val = i\n",
    "                else:\n",
    "                    continue\n",
    "    if(val == None):\n",
    "        return (id1, (val, diff))\n",
    "    else:\n",
    "        return(id1, (val, diff))"
   ]
  },
  {
   "cell_type": "code",
   "execution_count": 59,
   "id": "0c05c3a5",
   "metadata": {},
   "outputs": [],
   "source": [
    "def sum_tuple1(vals):\n",
    "    sum1, good = 0, 0\n",
    "    for i in range(len(vals)):\n",
    "        j = i % 2\n",
    "        if(j == 0):\n",
    "            id1 = vals[i]\n",
    "        else:\n",
    "            if(id1 != None):\n",
    "                sum1 = sum1 + 1\n",
    "                if(sum1 >= 1):\n",
    "                    if(vals[i] > 1):\n",
    "                        good = 1\n",
    "                else:\n",
    "                    good = 0\n",
    "            else:\n",
    "                good = 0\n",
    "    return (id1, good)"
   ]
  },
  {
   "cell_type": "code",
   "execution_count": 60,
   "id": "7c46db20",
   "metadata": {},
   "outputs": [],
   "source": [
    "def counts1(vals):\n",
    "    sum1, good = 0, 0\n",
    "    for i in range(len(vals)):\n",
    "        j = i % 2\n",
    "        if(j == 0):\n",
    "            id1 = vals[i]\n",
    "        else:\n",
    "            if(id1 != None):\n",
    "                sum1 = sum1 + 1\n",
    "                if(sum1 >= 1):\n",
    "                    good = 1\n",
    "                else:\n",
    "                    good = 0\n",
    "            else:\n",
    "                good = 0\n",
    "    return (id1, good)"
   ]
  },
  {
   "cell_type": "code",
   "execution_count": 61,
   "id": "3515e208",
   "metadata": {},
   "outputs": [],
   "source": [
    "solution =  tab2.map(lambda line: json.loads(line))\\\n",
    "            .map(lambda x: get_social_value1(x))\\\n",
    "            .reduceByKey(lambda a, b : a + b)\\\n",
    "             .mapValues(sum_tuple1)\\\n",
    "             .map(lambda x: x[1])\\\n",
    "             .reduceByKey(lambda a, b : a + b)\\\n",
    "            .sortBy(lambda x: -x[1])"
   ]
  },
  {
   "cell_type": "code",
   "execution_count": 62,
   "id": "371a371e",
   "metadata": {},
   "outputs": [
    {
     "data": {
      "text/plain": [
       "[('empowerment', 256),\n",
       " ('rights', 31),\n",
       " ('addiction', 20),\n",
       " ('social', 19),\n",
       " ('racial', 14),\n",
       " ('immigration', 1),\n",
       " (None, 0)]"
      ]
     },
     "execution_count": 62,
     "metadata": {},
     "output_type": "execute_result"
    }
   ],
   "source": [
    "solution.collect()"
   ]
  },
  {
   "cell_type": "code",
   "execution_count": 63,
   "id": "c0ec6587",
   "metadata": {},
   "outputs": [],
   "source": [
    "counts =  tab2.map(lambda line: json.loads(line))\\\n",
    "            .map(lambda x: get_social_value1(x))\\\n",
    "            .reduceByKey(lambda a, b : a + b)\\\n",
    "             .mapValues(counts1)\\\n",
    "              .map(lambda x: x[1])\\\n",
    "              .reduceByKey(lambda a, b : a + b)\\\n",
    "              .filter(lambda x: x[1] > 1)\\\n",
    "              .sortBy(lambda x: -x[1])"
   ]
  },
  {
   "cell_type": "code",
   "execution_count": 64,
   "id": "6a683898",
   "metadata": {},
   "outputs": [
    {
     "data": {
      "text/plain": [
       "[('empowerment', 1570),\n",
       " ('rights', 306),\n",
       " ('addiction', 256),\n",
       " ('racial', 173),\n",
       " ('social', 149),\n",
       " ('immigration', 28)]"
      ]
     },
     "execution_count": 64,
     "metadata": {},
     "output_type": "execute_result"
    }
   ],
   "source": [
    "counts.collect()"
   ]
  },
  {
   "cell_type": "code",
   "execution_count": 65,
   "id": "a64a100c",
   "metadata": {},
   "outputs": [],
   "source": [
    "percent = solution.join(counts).map(lambda x: (x[0], x[1][0]/x[1][1]))\\\n",
    "             .sortBy(lambda x: -x[1])"
   ]
  },
  {
   "cell_type": "code",
   "execution_count": 66,
   "id": "45dd40ff",
   "metadata": {},
   "outputs": [
    {
     "data": {
      "text/plain": [
       "[('empowerment', 0.16305732484076432),\n",
       " ('social', 0.12751677852348994),\n",
       " ('rights', 0.10130718954248366),\n",
       " ('racial', 0.08092485549132948),\n",
       " ('addiction', 0.078125),\n",
       " ('immigration', 0.03571428571428571)]"
      ]
     },
     "execution_count": 66,
     "metadata": {},
     "output_type": "execute_result"
    }
   ],
   "source": [
    "percent.collect()"
   ]
  },
  {
   "cell_type": "code",
   "execution_count": 67,
   "id": "78ba4641",
   "metadata": {},
   "outputs": [],
   "source": [
    "#3 Do socially aware movies get low budgets and box office collections?"
   ]
  },
  {
   "cell_type": "code",
   "execution_count": 68,
   "id": "318762c4",
   "metadata": {},
   "outputs": [],
   "source": [
    "tmdb = sqlContext.read.csv('tmdb.csv', header = True)"
   ]
  },
  {
   "cell_type": "code",
   "execution_count": 69,
   "id": "2b839baa",
   "metadata": {},
   "outputs": [
    {
     "name": "stdout",
     "output_type": "stream",
     "text": [
      "+---+-------+------+----------+---------+\n",
      "|_c0|imdb_id|    id|   revenue|   budget|\n",
      "+---+-------+------+----------+---------+\n",
      "|  0|  76759|    11| 775398007| 11000000|\n",
      "|  1| 118715|   115|  46969409| 15000000|\n",
      "|  2|  62512|   667| 111584787|  9500000|\n",
      "|  3| 425210|   186|  56308881| 27000000|\n",
      "|  4|2872718|242582|  50300000|  8500000|\n",
      "|  5| 470752|264660|  36869414| 15000000|\n",
      "|  6|2332623|197599|         0|        0|\n",
      "|  7|3783958|313369| 447407695| 30000000|\n",
      "|  8|5052448|419430| 255407969|  4500000|\n",
      "|  9|  63522|   805|  33395426|  3200000|\n",
      "| 10|  87544|    81|   3301446|  1000000|\n",
      "| 11|  86190|  1892| 572700000| 32350000|\n",
      "| 12| 106582|  9350| 255000211| 70000000|\n",
      "| 13| 146882|   243|  47126295| 30000000|\n",
      "| 14|7475540|489987|         0|        0|\n",
      "| 15|  96754|  2756|  90000098| 70000000|\n",
      "| 16| 181852|   296| 435000000|200000000|\n",
      "| 17| 499549| 19995|2920357254|237000000|\n",
      "| 18|1375666| 27205| 825532764|160000000|\n",
      "| 19|1408101| 54138| 467365246|190000000|\n",
      "+---+-------+------+----------+---------+\n",
      "only showing top 20 rows\n",
      "\n"
     ]
    }
   ],
   "source": [
    "tmdb.show()"
   ]
  },
  {
   "cell_type": "code",
   "execution_count": 70,
   "id": "1dbcce6c",
   "metadata": {},
   "outputs": [
    {
     "name": "stdout",
     "output_type": "stream",
     "text": [
      "root\n",
      " |-- _c0: string (nullable = true)\n",
      " |-- imdb_id: string (nullable = true)\n",
      " |-- id: string (nullable = true)\n",
      " |-- revenue: string (nullable = true)\n",
      " |-- budget: string (nullable = true)\n",
      "\n"
     ]
    }
   ],
   "source": [
    "tmdb.printSchema()"
   ]
  },
  {
   "cell_type": "code",
   "execution_count": 71,
   "id": "012e9788",
   "metadata": {},
   "outputs": [],
   "source": [
    "tmdb.registerTempTable(\"tmdb\")"
   ]
  },
  {
   "cell_type": "code",
   "execution_count": 72,
   "id": "03859584",
   "metadata": {},
   "outputs": [],
   "source": [
    "sql3 = sqlcontext.sql(''' select imdb_id, tag, revenue, budget from tmdb\n",
    "                          INNER JOIN movielens\n",
    "                          on imdb_id = imdbId''')"
   ]
  },
  {
   "cell_type": "code",
   "execution_count": 73,
   "id": "f3a71bf8",
   "metadata": {},
   "outputs": [
    {
     "name": "stdout",
     "output_type": "stream",
     "text": [
      "+-------+---------+---------+--------+\n",
      "|imdb_id|      tag|  revenue|  budget|\n",
      "+-------+---------+---------+--------+\n",
      "|  76759|  classic|775398007|11000000|\n",
      "|  76759|  classic|775398007|11000000|\n",
      "|  76759|  classic|775398007|11000000|\n",
      "|  76759|  classic|775398007|11000000|\n",
      "|  76759|  classic|775398007|11000000|\n",
      "|  76759|  classic|775398007|11000000|\n",
      "|  76759|   sci-fi|775398007|11000000|\n",
      "|  76759|   sci-fi|775398007|11000000|\n",
      "|  76759|   sci-fi|775398007|11000000|\n",
      "|  76759|   sci-fi|775398007|11000000|\n",
      "|  76759|   sci-fi|775398007|11000000|\n",
      "|  76759|   sci-fi|775398007|11000000|\n",
      "|  76759|   action|775398007|11000000|\n",
      "|  76759|   action|775398007|11000000|\n",
      "|  76759|   action|775398007|11000000|\n",
      "|  76759|   action|775398007|11000000|\n",
      "|  76759|   action|775398007|11000000|\n",
      "|  76759|   action|775398007|11000000|\n",
      "|  76759|adventure|775398007|11000000|\n",
      "|  76759|adventure|775398007|11000000|\n",
      "+-------+---------+---------+--------+\n",
      "only showing top 20 rows\n",
      "\n"
     ]
    }
   ],
   "source": [
    "sql3.show()"
   ]
  },
  {
   "cell_type": "code",
   "execution_count": 74,
   "id": "8e6c8920",
   "metadata": {},
   "outputs": [],
   "source": [
    "tab3 = sql3.toJSON()"
   ]
  },
  {
   "cell_type": "code",
   "execution_count": 75,
   "id": "16add8ef",
   "metadata": {},
   "outputs": [],
   "source": [
    "def get_social_value2(data):\n",
    "    tokens = {'racial' : ['racism', 'racial', 'discrimination', 'segregation', 'racist', 'civil', 'black', 'african', 'race'],\n",
    "              'addiction' : ['drug', 'drugs', 'abuse', 'depression', 'addiction', 'depressing', 'suicide', 'psychiatrist',\n",
    "                            'mental', 'addict', 'abandonment', 'alcoholism'],\n",
    "              'rights': ['gay', 'queer', 'lgbt', 'lesbian', 'bisexual', 'homosexuality', 'transgender'],\n",
    "              'social': ['social', 'social commentary', 'social criticism','societal', 'bully', 'bullying', 'pollution', 'corruption', 'crisis'],\n",
    "              'empowerment': ['sexist', 'strong female lead', 'strong woman', 'strong women', 'woman', 'women'],\n",
    "              'immigration': ['immigration', 'culture']}\n",
    "\n",
    "    id1 = data['imdb_id']\n",
    "    tag = data.get('tag')\n",
    "    revenue = data.get('revenue')\n",
    "    budget = data.get('budget')\n",
    "    \n",
    "    val = None\n",
    "    \n",
    "    for i, j in tokens.items():\n",
    "        for k in j:\n",
    "            if(tag != None):\n",
    "                if(k in tag.lower()):\n",
    "                    val = i\n",
    "                else:\n",
    "                    continue\n",
    "    if(val == None):\n",
    "        return (id1, (val, budget, revenue))\n",
    "    else:\n",
    "        return(id1, (val, budget, revenue))"
   ]
  },
  {
   "cell_type": "code",
   "execution_count": 76,
   "id": "fd77f9e2",
   "metadata": {},
   "outputs": [],
   "source": [
    "def sum_tuple2(vals):\n",
    "    sum1, good = 0, 0\n",
    "    for i in range(len(vals)):\n",
    "        j = i % 3\n",
    "        if(j == 0):\n",
    "            id1 = vals[i]\n",
    "        elif(j == 1):\n",
    "            if(id1 != None):\n",
    "                sum1 = sum1 + 1\n",
    "                if(sum1 >= 1):\n",
    "                    if(int(vals[i]) <= 2000000):\n",
    "                        budget = vals[i]\n",
    "                        good = 1\n",
    "                else:\n",
    "                    good = 0\n",
    "            else:\n",
    "                good = 0\n",
    "        elif(id1 != None):\n",
    "            sum1 = sum1 + 1\n",
    "            if(sum1 >= 1):\n",
    "                if(int(vals[i]) <= 20000000):\n",
    "                    good = 1\n",
    "                else:\n",
    "                    good = 0\n",
    "            else:\n",
    "                good = 0\n",
    "    return (id1, good)"
   ]
  },
  {
   "cell_type": "code",
   "execution_count": 77,
   "id": "dfa97aee",
   "metadata": {},
   "outputs": [],
   "source": [
    "solution3 =  tab3.map(lambda line: json.loads(line))\\\n",
    "            .map(lambda x: get_social_value2(x))\\\n",
    "             .reduceByKey(lambda a, b : a + b)\\\n",
    "              .mapValues(sum_tuple2)\\\n",
    "              .map(lambda x: x[1])\\\n",
    "              .reduceByKey(lambda a, b : a + b)\\\n",
    "             .sortBy(lambda x: -x[1])"
   ]
  },
  {
   "cell_type": "code",
   "execution_count": 78,
   "id": "0a143332",
   "metadata": {},
   "outputs": [
    {
     "data": {
      "text/plain": [
       "[('empowerment', 1757),\n",
       " ('rights', 302),\n",
       " ('addiction', 253),\n",
       " ('racial', 176),\n",
       " ('social', 140),\n",
       " ('immigration', 26),\n",
       " (None, 0)]"
      ]
     },
     "execution_count": 78,
     "metadata": {},
     "output_type": "execute_result"
    }
   ],
   "source": [
    "solution3.collect()"
   ]
  },
  {
   "cell_type": "code",
   "execution_count": 87,
   "id": "830e4a6a",
   "metadata": {},
   "outputs": [],
   "source": [
    "def counts2(vals):\n",
    "    sum1, good = 0, 0\n",
    "    for i in range(len(vals)):\n",
    "        j = i % 3\n",
    "        if(j == 0):\n",
    "            id1 = vals[i]\n",
    "        elif(j == 1):\n",
    "            if(id1 != None):\n",
    "                sum1 = sum1 + 1\n",
    "                if(sum1 >= 1):\n",
    "                    good = 1\n",
    "                else:\n",
    "                    good = 0\n",
    "            else:\n",
    "                good = 0\n",
    "    return (id1, good)"
   ]
  },
  {
   "cell_type": "code",
   "execution_count": 88,
   "id": "04020bd3",
   "metadata": {},
   "outputs": [],
   "source": [
    "counts =  tab3.map(lambda line: json.loads(line))\\\n",
    "            .map(lambda x: get_social_value2(x))\\\n",
    "            .reduceByKey(lambda a, b : a + b)\\\n",
    "             .mapValues(counts2)\\\n",
    "              .map(lambda x: x[1])\\\n",
    "              .reduceByKey(lambda a, b : a + b)\\\n",
    "              .filter(lambda x: x[1] > 1)\\\n",
    "              .sortBy(lambda x: -x[1])"
   ]
  },
  {
   "cell_type": "code",
   "execution_count": 89,
   "id": "ded7bc75",
   "metadata": {},
   "outputs": [
    {
     "data": {
      "text/plain": [
       "[('empowerment', 1784),\n",
       " ('rights', 309),\n",
       " ('addiction', 272),\n",
       " ('racial', 194),\n",
       " ('social', 155),\n",
       " ('immigration', 29)]"
      ]
     },
     "execution_count": 89,
     "metadata": {},
     "output_type": "execute_result"
    }
   ],
   "source": [
    "counts.collect()"
   ]
  },
  {
   "cell_type": "code",
   "execution_count": 93,
   "id": "4eb54941",
   "metadata": {},
   "outputs": [],
   "source": [
    "percent3 = solution3.join(counts).map(lambda x: (x[0], x[1][0]/x[1][1]))\\\n",
    "             .sortBy(lambda x: -x[1])\\\n",
    "             .map(lambda x: x[0] + ',' + str(x[1]))"
   ]
  },
  {
   "cell_type": "code",
   "execution_count": 94,
   "id": "c15e61de",
   "metadata": {},
   "outputs": [
    {
     "data": {
      "text/plain": [
       "['empowerment,0.9848654708520179',\n",
       " 'rights,0.9773462783171522',\n",
       " 'addiction,0.9301470588235294',\n",
       " 'racial,0.9072164948453608',\n",
       " 'social,0.9032258064516129',\n",
       " 'immigration,0.896551724137931']"
      ]
     },
     "execution_count": 94,
     "metadata": {},
     "output_type": "execute_result"
    }
   ],
   "source": [
    "percent3.collect()"
   ]
  },
  {
   "cell_type": "code",
   "execution_count": 98,
   "id": "4ee82bc1",
   "metadata": {},
   "outputs": [],
   "source": [
    "!cat anuraagr_si618_proj_output4/part* > anuraagr_proj_output5.csv"
   ]
  }
 ],
 "metadata": {
  "kernelspec": {
   "display_name": "Python 3 (ipykernel)",
   "language": "python",
   "name": "python3"
  },
  "language_info": {
   "codemirror_mode": {
    "name": "ipython",
    "version": 3
   },
   "file_extension": ".py",
   "mimetype": "text/x-python",
   "name": "python",
   "nbconvert_exporter": "python",
   "pygments_lexer": "ipython3",
   "version": "3.10.6"
  }
 },
 "nbformat": 4,
 "nbformat_minor": 5
}
